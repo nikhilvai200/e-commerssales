{
 "cells": [
  {
   "cell_type": "markdown",
   "id": "74cb1f90-33da-45bc-9bb1-0c1633d2e770",
   "metadata": {},
   "source": [
    "## 1. Which product categories are the most popular among customers?"
   ]
  },
  {
   "cell_type": "markdown",
   "id": "3a6298b2-1533-42da-9133-00fdf9b19b26",
   "metadata": {},
   "source": [
    "## 2. What is the most common payment method across product categories?"
   ]
  },
  {
   "cell_type": "markdown",
   "id": "abf61c0d-848a-47ae-a69c-98b2dd0674b1",
   "metadata": {},
   "source": [
    "## 3.Which product categories generate the highest revenue?"
   ]
  },
  {
   "cell_type": "markdown",
   "id": "97ee4221-a018-4502-9cee-8c2d43dd123c",
   "metadata": {},
   "source": [
    "## 4. What is the correlation between discount percentage and final price?"
   ]
  },
  {
   "cell_type": "markdown",
   "id": "c71a1c28-3b03-4415-9af3-cba27740563e",
   "metadata": {},
   "source": [
    "## 5. Which products consistently have the highest discounts?"
   ]
  },
  {
   "cell_type": "markdown",
   "id": "a8213abc-e78f-4721-8160-a1b833e3cf1c",
   "metadata": {},
   "source": [
    "## 6. What is the average price before and after discounts for each product category?"
   ]
  },
  {
   "cell_type": "markdown",
   "id": "acc73778-98c5-44d8-88eb-1cbd0bcb2813",
   "metadata": {
    "jp-MarkdownHeadingCollapsed": true
   },
   "source": [
    "## 7. Do certain users purchase more frequently or spend more on average?"
   ]
  },
  {
   "cell_type": "markdown",
   "id": "4d4cdc60-dc9d-4dfd-96fe-f3d0b68cdb96",
   "metadata": {},
   "source": [
    "## 8. What is the average basket value per transaction?"
   ]
  },
  {
   "cell_type": "code",
   "execution_count": null,
   "id": "d2390046-931a-4133-8c2c-07c940b26dbd",
   "metadata": {},
   "outputs": [],
   "source": []
  }
 ],
 "metadata": {
  "kernelspec": {
   "display_name": "Python 3 (ipykernel)",
   "language": "python",
   "name": "python3"
  },
  "language_info": {
   "codemirror_mode": {
    "name": "ipython",
    "version": 3
   },
   "file_extension": ".py",
   "mimetype": "text/x-python",
   "name": "python",
   "nbconvert_exporter": "python",
   "pygments_lexer": "ipython3",
   "version": "3.12.4"
  }
 },
 "nbformat": 4,
 "nbformat_minor": 5
}
